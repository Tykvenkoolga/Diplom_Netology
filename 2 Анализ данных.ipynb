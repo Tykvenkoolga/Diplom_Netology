{
 "cells": [
  {
   "cell_type": "code",
   "execution_count": 35,
   "metadata": {},
   "outputs": [],
   "source": [
    "import numpy as np\n",
    "import pandas as pd\n",
    "import scipy as sc\n",
    "from scipy import stats\n",
    "import seaborn as sns\n",
    "import matplotlib.pyplot as plt \n",
    "import string \n",
    "%matplotlib inline"
   ]
  },
  {
   "cell_type": "markdown",
   "metadata": {},
   "source": [
    "Загружаем получившийся датасет"
   ]
  },
  {
   "cell_type": "code",
   "execution_count": 2,
   "metadata": {},
   "outputs": [
    {
     "data": {
      "text/html": [
       "<div>\n",
       "<style scoped>\n",
       "    .dataframe tbody tr th:only-of-type {\n",
       "        vertical-align: middle;\n",
       "    }\n",
       "\n",
       "    .dataframe tbody tr th {\n",
       "        vertical-align: top;\n",
       "    }\n",
       "\n",
       "    .dataframe thead th {\n",
       "        text-align: right;\n",
       "    }\n",
       "</style>\n",
       "<table border=\"1\" class=\"dataframe\">\n",
       "  <thead>\n",
       "    <tr style=\"text-align: right;\">\n",
       "      <th></th>\n",
       "      <th>Name_in</th>\n",
       "      <th>DateTime_in</th>\n",
       "      <th>Found Location</th>\n",
       "      <th>Intake Type</th>\n",
       "      <th>Intake Condition</th>\n",
       "      <th>Animal Type_in</th>\n",
       "      <th>Age upon Intake</th>\n",
       "      <th>DateTime_out</th>\n",
       "      <th>Date of Birth</th>\n",
       "      <th>Outcome Type</th>\n",
       "      <th>Age upon Outcome</th>\n",
       "      <th>Breed_out</th>\n",
       "      <th>Color_out</th>\n",
       "      <th>Gender_in</th>\n",
       "      <th>Sterill_in</th>\n",
       "      <th>Sterill_out</th>\n",
       "      <th>group of age_in</th>\n",
       "      <th>days_of_stay</th>\n",
       "      <th>group of stay</th>\n",
       "    </tr>\n",
       "  </thead>\n",
       "  <tbody>\n",
       "    <tr>\n",
       "      <th>0</th>\n",
       "      <td>1</td>\n",
       "      <td>2019-01-03 16:19:00</td>\n",
       "      <td>2501 Magin Meadow Dr in Austin (TX)</td>\n",
       "      <td>Stray</td>\n",
       "      <td>Normal</td>\n",
       "      <td>Dog</td>\n",
       "      <td>2 years</td>\n",
       "      <td>2019-01-08 15:11:00</td>\n",
       "      <td>2017-01-03 00:00:00</td>\n",
       "      <td>Transfer</td>\n",
       "      <td>2 years</td>\n",
       "      <td>Beagle Mix</td>\n",
       "      <td>Tricolor</td>\n",
       "      <td>Male</td>\n",
       "      <td>1</td>\n",
       "      <td>1</td>\n",
       "      <td>1-3 years</td>\n",
       "      <td>4</td>\n",
       "      <td>0-7 days</td>\n",
       "    </tr>\n",
       "    <tr>\n",
       "      <th>1</th>\n",
       "      <td>1</td>\n",
       "      <td>2015-07-05 12:59:00</td>\n",
       "      <td>9409 Bluegrass Dr in Austin (TX)</td>\n",
       "      <td>Stray</td>\n",
       "      <td>Normal</td>\n",
       "      <td>Dog</td>\n",
       "      <td>8 years</td>\n",
       "      <td>2015-07-05 15:13:00</td>\n",
       "      <td>2007-07-05 00:00:00</td>\n",
       "      <td>Return to Owner</td>\n",
       "      <td>8 years</td>\n",
       "      <td>English Springer Spaniel</td>\n",
       "      <td>White/Liver</td>\n",
       "      <td>Female</td>\n",
       "      <td>1</td>\n",
       "      <td>1</td>\n",
       "      <td>7-9 years</td>\n",
       "      <td>0</td>\n",
       "      <td>0-7 days</td>\n",
       "    </tr>\n",
       "    <tr>\n",
       "      <th>2</th>\n",
       "      <td>1</td>\n",
       "      <td>2016-04-14 18:43:00</td>\n",
       "      <td>2818 Palomino Trail in Austin (TX)</td>\n",
       "      <td>Stray</td>\n",
       "      <td>Normal</td>\n",
       "      <td>Dog</td>\n",
       "      <td>11 months</td>\n",
       "      <td>2016-04-21 17:17:00</td>\n",
       "      <td>2015-04-17 00:00:00</td>\n",
       "      <td>Return to Owner</td>\n",
       "      <td>1 year</td>\n",
       "      <td>Basenji Mix</td>\n",
       "      <td>Sable/White</td>\n",
       "      <td>Male</td>\n",
       "      <td>0</td>\n",
       "      <td>1</td>\n",
       "      <td>7-12 months</td>\n",
       "      <td>6</td>\n",
       "      <td>0-7 days</td>\n",
       "    </tr>\n",
       "    <tr>\n",
       "      <th>3</th>\n",
       "      <td>0</td>\n",
       "      <td>2013-10-21 07:59:00</td>\n",
       "      <td>Austin (TX)</td>\n",
       "      <td>Stray</td>\n",
       "      <td>Sick</td>\n",
       "      <td>Cat</td>\n",
       "      <td>4 weeks</td>\n",
       "      <td>2013-10-21 11:39:00</td>\n",
       "      <td>2013-09-21 00:00:00</td>\n",
       "      <td>Transfer</td>\n",
       "      <td>4 weeks</td>\n",
       "      <td>Domestic Shorthair Mix</td>\n",
       "      <td>Calico</td>\n",
       "      <td>Female</td>\n",
       "      <td>0</td>\n",
       "      <td>0</td>\n",
       "      <td>1-6 weeks</td>\n",
       "      <td>0</td>\n",
       "      <td>0-7 days</td>\n",
       "    </tr>\n",
       "    <tr>\n",
       "      <th>4</th>\n",
       "      <td>1</td>\n",
       "      <td>2014-06-29 10:38:00</td>\n",
       "      <td>800 Grove Blvd in Austin (TX)</td>\n",
       "      <td>Stray</td>\n",
       "      <td>Normal</td>\n",
       "      <td>Dog</td>\n",
       "      <td>4 years</td>\n",
       "      <td>2014-07-02 14:16:00</td>\n",
       "      <td>2010-06-29 00:00:00</td>\n",
       "      <td>Return to Owner</td>\n",
       "      <td>4 years</td>\n",
       "      <td>Doberman Pinsch/Australian Cattle Dog</td>\n",
       "      <td>Tan/Gray</td>\n",
       "      <td>Male</td>\n",
       "      <td>1</td>\n",
       "      <td>1</td>\n",
       "      <td>4-6 years</td>\n",
       "      <td>3</td>\n",
       "      <td>0-7 days</td>\n",
       "    </tr>\n",
       "  </tbody>\n",
       "</table>\n",
       "</div>"
      ],
      "text/plain": [
       "   Name_in          DateTime_in                       Found Location  \\\n",
       "0        1  2019-01-03 16:19:00  2501 Magin Meadow Dr in Austin (TX)   \n",
       "1        1  2015-07-05 12:59:00     9409 Bluegrass Dr in Austin (TX)   \n",
       "2        1  2016-04-14 18:43:00   2818 Palomino Trail in Austin (TX)   \n",
       "3        0  2013-10-21 07:59:00                          Austin (TX)   \n",
       "4        1  2014-06-29 10:38:00        800 Grove Blvd in Austin (TX)   \n",
       "\n",
       "  Intake Type Intake Condition Animal Type_in Age upon Intake  \\\n",
       "0       Stray           Normal            Dog         2 years   \n",
       "1       Stray           Normal            Dog         8 years   \n",
       "2       Stray           Normal            Dog       11 months   \n",
       "3       Stray             Sick            Cat         4 weeks   \n",
       "4       Stray           Normal            Dog         4 years   \n",
       "\n",
       "          DateTime_out        Date of Birth     Outcome Type Age upon Outcome  \\\n",
       "0  2019-01-08 15:11:00  2017-01-03 00:00:00         Transfer          2 years   \n",
       "1  2015-07-05 15:13:00  2007-07-05 00:00:00  Return to Owner          8 years   \n",
       "2  2016-04-21 17:17:00  2015-04-17 00:00:00  Return to Owner           1 year   \n",
       "3  2013-10-21 11:39:00  2013-09-21 00:00:00         Transfer          4 weeks   \n",
       "4  2014-07-02 14:16:00  2010-06-29 00:00:00  Return to Owner          4 years   \n",
       "\n",
       "                               Breed_out    Color_out Gender_in Sterill_in  \\\n",
       "0                             Beagle Mix     Tricolor      Male          1   \n",
       "1               English Springer Spaniel  White/Liver    Female          1   \n",
       "2                            Basenji Mix  Sable/White      Male          0   \n",
       "3                 Domestic Shorthair Mix       Calico    Female          0   \n",
       "4  Doberman Pinsch/Australian Cattle Dog     Tan/Gray      Male          1   \n",
       "\n",
       "  Sterill_out group of age_in  days_of_stay group of stay  \n",
       "0           1       1-3 years             4      0-7 days  \n",
       "1           1       7-9 years             0      0-7 days  \n",
       "2           1     7-12 months             6      0-7 days  \n",
       "3           0       1-6 weeks             0      0-7 days  \n",
       "4           1       4-6 years             3      0-7 days  "
      ]
     },
     "execution_count": 2,
     "metadata": {},
     "output_type": "execute_result"
    }
   ],
   "source": [
    "Analysis = pd.read_csv('Analysis.csv')\n",
    "Analysis = Analysis.drop(['Unnamed: 0'], axis = 1)\n",
    "Analysis.head()"
   ]
  },
  {
   "cell_type": "markdown",
   "metadata": {},
   "source": [
    "Разделим датасет на два: один - по собакам, второй - по кошкам"
   ]
  },
  {
   "cell_type": "code",
   "execution_count": 3,
   "metadata": {},
   "outputs": [],
   "source": [
    "dog = Analysis[Analysis['Animal Type_in'] =='Dog']\n",
    "cat = Analysis[Analysis['Animal Type_in'] =='Cat']"
   ]
  },
  {
   "cell_type": "markdown",
   "metadata": {},
   "source": [
    "# Анализ факторов попадания в приют"
   ]
  },
  {
   "cell_type": "markdown",
   "metadata": {},
   "source": [
    "Количество собак и кошек, попавших в приют"
   ]
  },
  {
   "cell_type": "code",
   "execution_count": 6,
   "metadata": {},
   "outputs": [
    {
     "data": {
      "text/plain": [
       "Dog    89818\n",
       "Cat    45134\n",
       "Name: Animal Type_in, dtype: int64"
      ]
     },
     "execution_count": 6,
     "metadata": {},
     "output_type": "execute_result"
    }
   ],
   "source": [
    "Analysis['Animal Type_in'].value_counts()"
   ]
  },
  {
   "cell_type": "code",
   "execution_count": 7,
   "metadata": {},
   "outputs": [
    {
     "data": {
      "text/plain": [
       "<matplotlib.axes._subplots.AxesSubplot at 0x2bc2963da58>"
      ]
     },
     "execution_count": 7,
     "metadata": {},
     "output_type": "execute_result"
    },
    {
     "data": {
      "image/png": "[encoded data removed]",
      "text/plain": [
       "<Figure size 720x360 with 1 Axes>"
      ]
     },
     "metadata": {
      "needs_background": "light"
     },
     "output_type": "display_data"
    }
   ],
   "source": [
    "Analysis['Animal Type_in'].value_counts().plot(kind = 'bar', figsize = (10,5), title = 'Количество собак и кошек, попавших в приют')"
   ]
  },
  {
   "cell_type": "code",
   "execution_count": 21,
   "metadata": {},
   "outputs": [
    {
     "name": "stdout",
     "output_type": "stream",
     "text": [
      "66.55551603533108 % собак в приюте\n",
      "33.44448396466892 % кошек в приюте\n"
     ]
    }
   ],
   "source": [
    "print ((dog['Animal Type_in'].count()/Analysis['Animal Type_in'].count())* 100, '% собак в приюте')\n",
    "print ((cat['Animal Type_in'].count()/Analysis['Animal Type_in'].count())* 100, '% кошек в приюте')"
   ]
  },
  {
   "cell_type": "markdown",
   "metadata": {},
   "source": [
    "Распределение количества собак и кошек по типу попадания в приют"
   ]
  },
  {
   "cell_type": "code",
   "execution_count": 23,
   "metadata": {},
   "outputs": [
    {
     "data": {
      "text/plain": [
       "Stray                 59360\n",
       "Owner Surrender       20848\n",
       "Public Assist          9413\n",
       "Euthanasia Request      197\n",
       "Name: Intake Type, dtype: int64"
      ]
     },
     "execution_count": 23,
     "metadata": {},
     "output_type": "execute_result"
    }
   ],
   "source": [
    "dog['Intake Type'].value_counts()"
   ]
  },
  {
   "cell_type": "code",
   "execution_count": 24,
   "metadata": {
    "scrolled": true
   },
   "outputs": [
    {
     "data": {
      "text/plain": [
       "Stray                 34248\n",
       "Owner Surrender        9753\n",
       "Public Assist          1066\n",
       "Euthanasia Request       67\n",
       "Name: Intake Type, dtype: int64"
      ]
     },
     "execution_count": 24,
     "metadata": {},
     "output_type": "execute_result"
    }
   ],
   "source": [
    "cat['Intake Type'].value_counts()"
   ]
  },
  {
   "cell_type": "code",
   "execution_count": 37,
   "metadata": {},
   "outputs": [
    {
     "data": {
      "text/plain": [
       "<matplotlib.legend.Legend at 0x21dc0b2fc18>"
      ]
     },
     "execution_count": 37,
     "metadata": {},
     "output_type": "execute_result"
    },
    {
     "data": {
      "image/png": "[encoded data removed]",
      "text/plain": [
       "<Figure size 864x432 with 1 Axes>"
      ]
     },
     "metadata": {
      "needs_background": "light"
     },
     "output_type": "display_data"
    }
   ],
   "source": [
    "plt.figure (figsize = (12,6))\n",
    "sns.countplot (data=Analysis, \n",
    "x = 'Intake Type',\n",
    "hue = 'Animal Type_in')\n",
    "plt.title('Распределение количества собак и кошек по типу попадания в приют')\n",
    "plt.legend(loc = 'upper right')"
   ]
  },
  {
   "cell_type": "code",
   "execution_count": 28,
   "metadata": {},
   "outputs": [],
   "source": [
    "#DOGS\n",
    "dog_int = dog.groupby(['Intake Type'])['Intake Type'].count()"
   ]
  },
  {
   "cell_type": "code",
   "execution_count": 31,
   "metadata": {
    "scrolled": true
   },
   "outputs": [
    {
     "name": "stdout",
     "output_type": "stream",
     "text": [
      "66.08920260972188 % Подобраны с улицы\n",
      "23.211383018993967 % Были сданы владельцем\n",
      "10.480081943485715 % Принесли волонтеры\n",
      "0.21933242779843687 % Запрос на эвтаназию\n"
     ]
    }
   ],
   "source": [
    "print (dog_int['Stray'].sum() / dog_int.sum() * 100, '% Подобраны с улицы')\n",
    "print (dog_int['Owner Surrender'].sum() / dog_int.sum() * 100, '% Были сданы владельцем')\n",
    "print (dog_int['Public Assist'].sum() / dog_int.sum() * 100, '% Принесли волонтеры')\n",
    "print (dog_int['Euthanasia Request'].sum() / dog_int.sum() * 100, '% Запрос на эвтаназию')"
   ]
  },
  {
   "cell_type": "code",
   "execution_count": 32,
   "metadata": {},
   "outputs": [],
   "source": [
    "#CATS\n",
    "cat_int = cat.groupby(['Intake Type'])['Intake Type'].count()"
   ]
  },
  {
   "cell_type": "code",
   "execution_count": 33,
   "metadata": {
    "scrolled": true
   },
   "outputs": [
    {
     "name": "stdout",
     "output_type": "stream",
     "text": [
      "75.88071077236674 % Подобраны с улицы\n",
      "21.60898657331502 % Были сданы владельцем\n",
      "2.361855807152036 % Принесли волонтеры\n",
      "0.14844684716621617 % Запрос на эвтаназию\n"
     ]
    }
   ],
   "source": [
    "print (cat_int['Stray'].sum() / cat_int.sum() * 100, '% Подобраны с улицы')\n",
    "print (cat_int['Owner Surrender'].sum() / cat_int.sum() * 100, '% Были сданы владельцем')\n",
    "print (cat_int['Public Assist'].sum() / cat_int.sum() * 100, '% Принесли волонтеры')\n",
    "print (cat_int['Euthanasia Request'].sum() / cat_int.sum() * 100, '% Запрос на эвтаназию')"
   ]
  },
  {
   "cell_type": "markdown",
   "metadata": {},
   "source": [
    "Количество особей мужского и женского пола у собак и кошек "
   ]
  },
  {
   "cell_type": "code",
   "execution_count": 38,
   "metadata": {},
   "outputs": [
    {
     "data": {
      "text/plain": [
       "Male       49503\n",
       "Female     39909\n",
       "Unknown      406\n",
       "Name: Gender_in, dtype: int64"
      ]
     },
     "execution_count": 38,
     "metadata": {},
     "output_type": "execute_result"
    }
   ],
   "source": [
    "dog['Gender_in'].value_counts()"
   ]
  },
  {
   "cell_type": "code",
   "execution_count": 39,
   "metadata": {
    "scrolled": true
   },
   "outputs": [
    {
     "data": {
      "text/plain": [
       "Female     20972\n",
       "Male       20478\n",
       "Unknown     3684\n",
       "Name: Gender_in, dtype: int64"
      ]
     },
     "execution_count": 39,
     "metadata": {},
     "output_type": "execute_result"
    }
   ],
   "source": [
    "cat['Gender_in'].value_counts()"
   ]
  },
  {
   "cell_type": "code",
   "execution_count": 42,
   "metadata": {
    "scrolled": true
   },
   "outputs": [
    {
     "data": {
      "text/plain": [
       "<matplotlib.legend.Legend at 0x21dbfa936d8>"
      ]
     },
     "execution_count": 42,
     "metadata": {},
     "output_type": "execute_result"
    },
    {
     "data": {
      "image/png": "[encoded data removed]",
      "text/plain": [
       "<Figure size 864x432 with 1 Axes>"
      ]
     },
     "metadata": {
      "needs_background": "light"
     },
     "output_type": "display_data"
    }
   ],
   "source": [
    "plt.figure (figsize = (12,6))\n",
    "sns.countplot (data=Analysis, \n",
    "x = 'Animal Type_in',\n",
    "hue = 'Gender_in')\n",
    "plt.title('Количество особей мужского и женского пола у собак и кошек при попадании в приют')\n",
    "plt.legend(loc = 'upper right')"
   ]
  },
  {
   "cell_type": "code",
   "execution_count": 43,
   "metadata": {},
   "outputs": [],
   "source": [
    "dog_f = dog[dog['Gender_in'] =='Female']\n",
    "dog_m = dog[dog['Gender_in'] =='Male']\n",
    "cat_f = cat[cat['Gender_in'] =='Female']\n",
    "cat_m = cat[cat['Gender_in'] =='Male']"
   ]
  },
  {
   "cell_type": "code",
   "execution_count": 63,
   "metadata": {},
   "outputs": [
    {
     "name": "stdout",
     "output_type": "stream",
     "text": [
      "44.4331871117148 % собак женского пола в приюте\n",
      "55.11478768175644 % собак мужского пола в приюте\n",
      "46.46607878761023 % кошек женского пола в приюте\n",
      "45.37156024283245 % кошек мужского пола в приюте\n"
     ]
    }
   ],
   "source": [
    "print (dog_f['Gender_in'].count()/dog['Animal Type_in'].count() * 100, '% собак женского пола в приюте')\n",
    "print (dog_m['Gender_in'].count()/dog['Animal Type_in'].count() * 100, '% собак мужского пола в приюте')\n",
    "print (cat_f['Gender_in'].count()/cat['Animal Type_in'].count() * 100, '% кошек женского пола в приюте')\n",
    "print (cat_m['Gender_in'].count()/cat['Animal Type_in'].count() * 100, '% кошек мужского пола в приюте')"
   ]
  },
  {
   "cell_type": "markdown",
   "metadata": {},
   "source": [
    "Соотношение пола собак и кошек по типу попадания в приют"
   ]
  }
 ],
 "metadata": {
  "kernelspec": {
   "display_name": "Python 3",
   "language": "python",
   "name": "python3"
  },
  "language_info": {
   "codemirror_mode": {
    "name": "ipython",
    "version": 3
   },
   "file_extension": ".py",
   "mimetype": "text/x-python",
   "name": "python",
   "nbconvert_exporter": "python",
   "pygments_lexer": "ipython3",
   "version": "3.7.1"
  }
 },
 "nbformat": 4,
 "nbformat_minor": 2
}
