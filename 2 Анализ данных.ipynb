{
 "cells": [
  {
   "cell_type": "code",
   "execution_count": 1,
   "metadata": {},
   "outputs": [],
   "source": [
    "import numpy as np\n",
    "import pandas as pd\n",
    "import scipy as sc\n",
    "from scipy import stats\n",
    "import seaborn as sns\n",
    "import matplotlib.pyplot as plt \n",
    "import string \n",
    "%matplotlib inline"
   ]
  },
  {
   "cell_type": "markdown",
   "metadata": {},
   "source": [
    "Загружаем получившийся датасет"
   ]
  },
  {
   "cell_type": "code",
   "execution_count": 2,
   "metadata": {
    "scrolled": false
   },
   "outputs": [
    {
     "data": {
      "text/html": [
       "<div>\n",
       "<style scoped>\n",
       "    .dataframe tbody tr th:only-of-type {\n",
       "        vertical-align: middle;\n",
       "    }\n",
       "\n",
       "    .dataframe tbody tr th {\n",
       "        vertical-align: top;\n",
       "    }\n",
       "\n",
       "    .dataframe thead th {\n",
       "        text-align: right;\n",
       "    }\n",
       "</style>\n",
       "<table border=\"1\" class=\"dataframe\">\n",
       "  <thead>\n",
       "    <tr style=\"text-align: right;\">\n",
       "      <th></th>\n",
       "      <th>Name_in</th>\n",
       "      <th>DateTime_in</th>\n",
       "      <th>Found Location</th>\n",
       "      <th>Intake Type</th>\n",
       "      <th>Intake Condition</th>\n",
       "      <th>Animal Type_in</th>\n",
       "      <th>Age upon Intake</th>\n",
       "      <th>DateTime_out</th>\n",
       "      <th>Date of Birth</th>\n",
       "      <th>Outcome Type</th>\n",
       "      <th>Age upon Outcome</th>\n",
       "      <th>Breed_out</th>\n",
       "      <th>Color_out</th>\n",
       "      <th>Gender_in</th>\n",
       "      <th>Sterill_in</th>\n",
       "      <th>Sterill_out</th>\n",
       "      <th>group of age_in</th>\n",
       "      <th>days_of_stay</th>\n",
       "      <th>group of stay</th>\n",
       "    </tr>\n",
       "  </thead>\n",
       "  <tbody>\n",
       "    <tr>\n",
       "      <td>0</td>\n",
       "      <td>1</td>\n",
       "      <td>2019-01-03 16:19:00</td>\n",
       "      <td>2501 Magin Meadow Dr in Austin (TX)</td>\n",
       "      <td>Stray</td>\n",
       "      <td>Normal</td>\n",
       "      <td>Dog</td>\n",
       "      <td>2 years</td>\n",
       "      <td>2019-01-08 15:11:00</td>\n",
       "      <td>2017-01-03 00:00:00</td>\n",
       "      <td>Transfer</td>\n",
       "      <td>2 years</td>\n",
       "      <td>Beagle Mix</td>\n",
       "      <td>Tricolor</td>\n",
       "      <td>Male</td>\n",
       "      <td>1</td>\n",
       "      <td>1</td>\n",
       "      <td>1-3 years</td>\n",
       "      <td>4</td>\n",
       "      <td>0-7 days</td>\n",
       "    </tr>\n",
       "    <tr>\n",
       "      <td>1</td>\n",
       "      <td>1</td>\n",
       "      <td>2015-07-05 12:59:00</td>\n",
       "      <td>9409 Bluegrass Dr in Austin (TX)</td>\n",
       "      <td>Stray</td>\n",
       "      <td>Normal</td>\n",
       "      <td>Dog</td>\n",
       "      <td>8 years</td>\n",
       "      <td>2015-07-05 15:13:00</td>\n",
       "      <td>2007-07-05 00:00:00</td>\n",
       "      <td>Return to Owner</td>\n",
       "      <td>8 years</td>\n",
       "      <td>English Springer Spaniel</td>\n",
       "      <td>White/Liver</td>\n",
       "      <td>Female</td>\n",
       "      <td>1</td>\n",
       "      <td>1</td>\n",
       "      <td>7-9 years</td>\n",
       "      <td>0</td>\n",
       "      <td>0-7 days</td>\n",
       "    </tr>\n",
       "    <tr>\n",
       "      <td>2</td>\n",
       "      <td>1</td>\n",
       "      <td>2016-04-14 18:43:00</td>\n",
       "      <td>2818 Palomino Trail in Austin (TX)</td>\n",
       "      <td>Stray</td>\n",
       "      <td>Normal</td>\n",
       "      <td>Dog</td>\n",
       "      <td>11 months</td>\n",
       "      <td>2016-04-21 17:17:00</td>\n",
       "      <td>2015-04-17 00:00:00</td>\n",
       "      <td>Return to Owner</td>\n",
       "      <td>1 year</td>\n",
       "      <td>Basenji Mix</td>\n",
       "      <td>Sable/White</td>\n",
       "      <td>Male</td>\n",
       "      <td>0</td>\n",
       "      <td>1</td>\n",
       "      <td>7-12 months</td>\n",
       "      <td>6</td>\n",
       "      <td>0-7 days</td>\n",
       "    </tr>\n",
       "    <tr>\n",
       "      <td>3</td>\n",
       "      <td>0</td>\n",
       "      <td>2013-10-21 07:59:00</td>\n",
       "      <td>Austin (TX)</td>\n",
       "      <td>Stray</td>\n",
       "      <td>Sick</td>\n",
       "      <td>Cat</td>\n",
       "      <td>4 weeks</td>\n",
       "      <td>2013-10-21 11:39:00</td>\n",
       "      <td>2013-09-21 00:00:00</td>\n",
       "      <td>Transfer</td>\n",
       "      <td>4 weeks</td>\n",
       "      <td>Domestic Shorthair Mix</td>\n",
       "      <td>Calico</td>\n",
       "      <td>Female</td>\n",
       "      <td>0</td>\n",
       "      <td>0</td>\n",
       "      <td>1-6 weeks</td>\n",
       "      <td>0</td>\n",
       "      <td>0-7 days</td>\n",
       "    </tr>\n",
       "    <tr>\n",
       "      <td>4</td>\n",
       "      <td>1</td>\n",
       "      <td>2014-06-29 10:38:00</td>\n",
       "      <td>800 Grove Blvd in Austin (TX)</td>\n",
       "      <td>Stray</td>\n",
       "      <td>Normal</td>\n",
       "      <td>Dog</td>\n",
       "      <td>4 years</td>\n",
       "      <td>2014-07-02 14:16:00</td>\n",
       "      <td>2010-06-29 00:00:00</td>\n",
       "      <td>Return to Owner</td>\n",
       "      <td>4 years</td>\n",
       "      <td>Doberman Pinsch/Australian Cattle Dog</td>\n",
       "      <td>Tan/Gray</td>\n",
       "      <td>Male</td>\n",
       "      <td>1</td>\n",
       "      <td>1</td>\n",
       "      <td>4-6 years</td>\n",
       "      <td>3</td>\n",
       "      <td>0-7 days</td>\n",
       "    </tr>\n",
       "  </tbody>\n",
       "</table>\n",
       "</div>"
      ],
      "text/plain": [
       "   Name_in          DateTime_in                       Found Location  \\\n",
       "0        1  2019-01-03 16:19:00  2501 Magin Meadow Dr in Austin (TX)   \n",
       "1        1  2015-07-05 12:59:00     9409 Bluegrass Dr in Austin (TX)   \n",
       "2        1  2016-04-14 18:43:00   2818 Palomino Trail in Austin (TX)   \n",
       "3        0  2013-10-21 07:59:00                          Austin (TX)   \n",
       "4        1  2014-06-29 10:38:00        800 Grove Blvd in Austin (TX)   \n",
       "\n",
       "  Intake Type Intake Condition Animal Type_in Age upon Intake  \\\n",
       "0       Stray           Normal            Dog         2 years   \n",
       "1       Stray           Normal            Dog         8 years   \n",
       "2       Stray           Normal            Dog       11 months   \n",
       "3       Stray             Sick            Cat         4 weeks   \n",
       "4       Stray           Normal            Dog         4 years   \n",
       "\n",
       "          DateTime_out        Date of Birth     Outcome Type Age upon Outcome  \\\n",
       "0  2019-01-08 15:11:00  2017-01-03 00:00:00         Transfer          2 years   \n",
       "1  2015-07-05 15:13:00  2007-07-05 00:00:00  Return to Owner          8 years   \n",
       "2  2016-04-21 17:17:00  2015-04-17 00:00:00  Return to Owner           1 year   \n",
       "3  2013-10-21 11:39:00  2013-09-21 00:00:00         Transfer          4 weeks   \n",
       "4  2014-07-02 14:16:00  2010-06-29 00:00:00  Return to Owner          4 years   \n",
       "\n",
       "                               Breed_out    Color_out Gender_in Sterill_in  \\\n",
       "0                             Beagle Mix     Tricolor      Male          1   \n",
       "1               English Springer Spaniel  White/Liver    Female          1   \n",
       "2                            Basenji Mix  Sable/White      Male          0   \n",
       "3                 Domestic Shorthair Mix       Calico    Female          0   \n",
       "4  Doberman Pinsch/Australian Cattle Dog     Tan/Gray      Male          1   \n",
       "\n",
       "  Sterill_out group of age_in  days_of_stay group of stay  \n",
       "0           1       1-3 years             4      0-7 days  \n",
       "1           1       7-9 years             0      0-7 days  \n",
       "2           1     7-12 months             6      0-7 days  \n",
       "3           0       1-6 weeks             0      0-7 days  \n",
       "4           1       4-6 years             3      0-7 days  "
      ]
     },
     "execution_count": 2,
     "metadata": {},
     "output_type": "execute_result"
    }
   ],
   "source": [
    "Analysis = pd.read_csv('Analysis.csv')\n",
    "Analysis = Analysis.drop(['Unnamed: 0'], axis = 1)\n",
    "Analysis.head()"
   ]
  },
  {
   "cell_type": "markdown",
   "metadata": {},
   "source": [
    "Так как в колонке значения Rto-Adopt и Return to Owner обозначают одно и тоже, соединю два значения в одно:  Return to Owner"
   ]
  },
  {
   "cell_type": "code",
   "execution_count": 3,
   "metadata": {},
   "outputs": [],
   "source": [
    "Analysis['Outcome Type'] = Analysis['Outcome Type'].replace('Rto-Adopt', 'Return to Owner')"
   ]
  },
  {
   "cell_type": "markdown",
   "metadata": {},
   "source": [
    "Разделим датасет на два: один - по собакам, второй - по кошкам"
   ]
  },
  {
   "cell_type": "code",
   "execution_count": 6,
   "metadata": {},
   "outputs": [],
   "source": [
    "dog = Analysis[Analysis['Animal Type_in'] =='Dog']\n",
    "cat = Analysis[Analysis['Animal Type_in'] =='Cat']"
   ]
  },
  {
   "cell_type": "markdown",
   "metadata": {},
   "source": [
    "# Анализ факторов попадания в приют"
   ]
  },
  {
   "cell_type": "markdown",
   "metadata": {},
   "source": [
    "Количество собак и кошек, попавших в приют"
   ]
  },
  {
   "cell_type": "code",
   "execution_count": 4,
   "metadata": {},
   "outputs": [
    {
     "data": {
      "text/plain": [
       "Dog    89818\n",
       "Cat    45134\n",
       "Name: Animal Type_in, dtype: int64"
      ]
     },
     "execution_count": 4,
     "metadata": {},
     "output_type": "execute_result"
    }
   ],
   "source": [
    "Analysis['Animal Type_in'].value_counts()"
   ]
  },
  {
   "cell_type": "code",
   "execution_count": 7,
   "metadata": {
    "scrolled": true
   },
   "outputs": [
    {
     "data": {
      "text/plain": [
       "<matplotlib.axes._subplots.AxesSubplot at 0x21ca494f0c8>"
      ]
     },
     "execution_count": 7,
     "metadata": {},
     "output_type": "execute_result"
    },
    {
     "data": {
      "image/png": "[encoded data removed]",
      "text/plain": [
       "<Figure size 720x360 with 1 Axes>"
      ]
     },
     "metadata": {
      "needs_background": "light"
     },
     "output_type": "display_data"
    }
   ],
   "source": [
    "Analysis['Animal Type_in'].value_counts().plot(kind = 'bar', figsize = (10,5), title = 'Количество собак и кошек, попавших в приют')"
   ]
  },
  {
   "cell_type": "code",
   "execution_count": 10,
   "metadata": {},
   "outputs": [
    {
     "name": "stdout",
     "output_type": "stream",
     "text": [
      "66.55551603533108 % собак в приюте\n",
      "33.44448396466892 % кошек в приюте\n"
     ]
    }
   ],
   "source": [
    "print ((dog['Animal Type_in'].count()/Analysis['Animal Type_in'].count())* 100, '% собак в приюте')\n",
    "print ((cat['Animal Type_in'].count()/Analysis['Animal Type_in'].count())* 100, '% кошек в приюте')"
   ]
  },
  {
   "cell_type": "markdown",
   "metadata": {},
   "source": [
    "Распределение количества собак и кошек по типу попадания в приют"
   ]
  },
  {
   "cell_type": "code",
   "execution_count": 23,
   "metadata": {},
   "outputs": [
    {
     "data": {
      "text/plain": [
       "Stray                 59360\n",
       "Owner Surrender       20848\n",
       "Public Assist          9413\n",
       "Euthanasia Request      197\n",
       "Name: Intake Type, dtype: int64"
      ]
     },
     "execution_count": 23,
     "metadata": {},
     "output_type": "execute_result"
    }
   ],
   "source": [
    "dog['Intake Type'].value_counts()"
   ]
  },
  {
   "cell_type": "code",
   "execution_count": 24,
   "metadata": {
    "scrolled": true
   },
   "outputs": [
    {
     "data": {
      "text/plain": [
       "Stray                 34248\n",
       "Owner Surrender        9753\n",
       "Public Assist          1066\n",
       "Euthanasia Request       67\n",
       "Name: Intake Type, dtype: int64"
      ]
     },
     "execution_count": 24,
     "metadata": {},
     "output_type": "execute_result"
    }
   ],
   "source": [
    "cat['Intake Type'].value_counts()"
   ]
  },
  {
   "cell_type": "code",
   "execution_count": 37,
   "metadata": {},
   "outputs": [
    {
     "data": {
      "text/plain": [
       "<matplotlib.legend.Legend at 0x21dc0b2fc18>"
      ]
     },
     "execution_count": 37,
     "metadata": {},
     "output_type": "execute_result"
    },
    {
     "data": {
      "image/png": "[encoded data removed]",
      "text/plain": [
       "<Figure size 864x432 with 1 Axes>"
      ]
     },
     "metadata": {
      "needs_background": "light"
     },
     "output_type": "display_data"
    }
   ],
   "source": [
    "plt.figure (figsize = (12,6))\n",
    "sns.countplot (data=Analysis, \n",
    "x = 'Intake Type',\n",
    "hue = 'Animal Type_in')\n",
    "plt.title('Распределение количества собак и кошек по типу попадания в приют')\n",
    "plt.legend(loc = 'upper right')"
   ]
  },
  {
   "cell_type": "code",
   "execution_count": 28,
   "metadata": {},
   "outputs": [],
   "source": [
    "#DOGS\n",
    "dog_int = dog.groupby(['Intake Type'])['Intake Type'].count()"
   ]
  },
  {
   "cell_type": "code",
   "execution_count": 31,
   "metadata": {
    "scrolled": true
   },
   "outputs": [
    {
     "name": "stdout",
     "output_type": "stream",
     "text": [
      "66.08920260972188 % Подобраны с улицы\n",
      "23.211383018993967 % Были сданы владельцем\n",
      "10.480081943485715 % Принесли волонтеры\n",
      "0.21933242779843687 % Запрос на эвтаназию\n"
     ]
    }
   ],
   "source": [
    "print (dog_int['Stray'].sum() / dog_int.sum() * 100, '% Подобраны с улицы')\n",
    "print (dog_int['Owner Surrender'].sum() / dog_int.sum() * 100, '% Были сданы владельцем')\n",
    "print (dog_int['Public Assist'].sum() / dog_int.sum() * 100, '% Принесли волонтеры')\n",
    "print (dog_int['Euthanasia Request'].sum() / dog_int.sum() * 100, '% Запрос на эвтаназию')"
   ]
  },
  {
   "cell_type": "code",
   "execution_count": 32,
   "metadata": {},
   "outputs": [],
   "source": [
    "#CATS\n",
    "cat_int = cat.groupby(['Intake Type'])['Intake Type'].count()"
   ]
  },
  {
   "cell_type": "code",
   "execution_count": 33,
   "metadata": {
    "scrolled": true
   },
   "outputs": [
    {
     "name": "stdout",
     "output_type": "stream",
     "text": [
      "75.88071077236674 % Подобраны с улицы\n",
      "21.60898657331502 % Были сданы владельцем\n",
      "2.361855807152036 % Принесли волонтеры\n",
      "0.14844684716621617 % Запрос на эвтаназию\n"
     ]
    }
   ],
   "source": [
    "print (cat_int['Stray'].sum() / cat_int.sum() * 100, '% Подобраны с улицы')\n",
    "print (cat_int['Owner Surrender'].sum() / cat_int.sum() * 100, '% Были сданы владельцем')\n",
    "print (cat_int['Public Assist'].sum() / cat_int.sum() * 100, '% Принесли волонтеры')\n",
    "print (cat_int['Euthanasia Request'].sum() / cat_int.sum() * 100, '% Запрос на эвтаназию')"
   ]
  },
  {
   "cell_type": "markdown",
   "metadata": {},
   "source": [
    "Количество особей мужского и женского пола у собак и кошек "
   ]
  },
  {
   "cell_type": "code",
   "execution_count": 38,
   "metadata": {},
   "outputs": [
    {
     "data": {
      "text/plain": [
       "Male       49503\n",
       "Female     39909\n",
       "Unknown      406\n",
       "Name: Gender_in, dtype: int64"
      ]
     },
     "execution_count": 38,
     "metadata": {},
     "output_type": "execute_result"
    }
   ],
   "source": [
    "dog['Gender_in'].value_counts()"
   ]
  },
  {
   "cell_type": "code",
   "execution_count": 39,
   "metadata": {
    "scrolled": true
   },
   "outputs": [
    {
     "data": {
      "text/plain": [
       "Female     20972\n",
       "Male       20478\n",
       "Unknown     3684\n",
       "Name: Gender_in, dtype: int64"
      ]
     },
     "execution_count": 39,
     "metadata": {},
     "output_type": "execute_result"
    }
   ],
   "source": [
    "cat['Gender_in'].value_counts()"
   ]
  },
  {
   "cell_type": "code",
   "execution_count": 42,
   "metadata": {
    "scrolled": true
   },
   "outputs": [
    {
     "data": {
      "text/plain": [
       "<matplotlib.legend.Legend at 0x21dbfa936d8>"
      ]
     },
     "execution_count": 42,
     "metadata": {},
     "output_type": "execute_result"
    },
    {
     "data": {
      "image/png": "[encoded data removed]",
      "text/plain": [
       "<Figure size 864x432 with 1 Axes>"
      ]
     },
     "metadata": {
      "needs_background": "light"
     },
     "output_type": "display_data"
    }
   ],
   "source": [
    "plt.figure (figsize = (12,6))\n",
    "sns.countplot (data=Analysis, \n",
    "x = 'Animal Type_in',\n",
    "hue = 'Gender_in')\n",
    "plt.title('Количество особей мужского и женского пола у собак и кошек при попадании в приют')\n",
    "plt.legend(loc = 'upper right')"
   ]
  },
  {
   "cell_type": "code",
   "execution_count": 14,
   "metadata": {},
   "outputs": [],
   "source": [
    "dog_f = dog[dog['Gender_in'] =='Female']\n",
    "dog_m = dog[dog['Gender_in'] =='Male']\n",
    "cat_f = cat[cat['Gender_in'] =='Female']\n",
    "cat_m = cat[cat['Gender_in'] =='Male']"
   ]
  },
  {
   "cell_type": "code",
   "execution_count": 63,
   "metadata": {},
   "outputs": [
    {
     "name": "stdout",
     "output_type": "stream",
     "text": [
      "44.4331871117148 % собак женского пола в приюте\n",
      "55.11478768175644 % собак мужского пола в приюте\n",
      "46.46607878761023 % кошек женского пола в приюте\n",
      "45.37156024283245 % кошек мужского пола в приюте\n"
     ]
    }
   ],
   "source": [
    "print (dog_f['Gender_in'].count()/dog['Animal Type_in'].count() * 100, '% собак женского пола в приюте')\n",
    "print (dog_m['Gender_in'].count()/dog['Animal Type_in'].count() * 100, '% собак мужского пола в приюте')\n",
    "print (cat_f['Gender_in'].count()/cat['Animal Type_in'].count() * 100, '% кошек женского пола в приюте')\n",
    "print (cat_m['Gender_in'].count()/cat['Animal Type_in'].count() * 100, '% кошек мужского пола в приюте')"
   ]
  },
  {
   "cell_type": "markdown",
   "metadata": {},
   "source": [
    "Соотношение пола собак и кошек по типу попадания в приют"
   ]
  },
  {
   "cell_type": "code",
   "execution_count": 14,
   "metadata": {},
   "outputs": [
    {
     "data": {
      "text/plain": [
       "Stray                 26686\n",
       "Owner Surrender       10005\n",
       "Public Assist          3131\n",
       "Euthanasia Request       87\n",
       "Name: Intake Type, dtype: int64"
      ]
     },
     "execution_count": 14,
     "metadata": {},
     "output_type": "execute_result"
    }
   ],
   "source": [
    "dog_f['Intake Type'].value_counts()"
   ]
  },
  {
   "cell_type": "code",
   "execution_count": 15,
   "metadata": {},
   "outputs": [
    {
     "data": {
      "text/plain": [
       "Stray                 32377\n",
       "Owner Surrender       10765\n",
       "Public Assist          6257\n",
       "Euthanasia Request      104\n",
       "Name: Intake Type, dtype: int64"
      ]
     },
     "execution_count": 15,
     "metadata": {},
     "output_type": "execute_result"
    }
   ],
   "source": [
    "dog_m['Intake Type'].value_counts()"
   ]
  },
  {
   "cell_type": "code",
   "execution_count": 16,
   "metadata": {},
   "outputs": [
    {
     "data": {
      "text/plain": [
       "Stray                 15360\n",
       "Owner Surrender        5107\n",
       "Public Assist           469\n",
       "Euthanasia Request       36\n",
       "Name: Intake Type, dtype: int64"
      ]
     },
     "execution_count": 16,
     "metadata": {},
     "output_type": "execute_result"
    }
   ],
   "source": [
    "cat_f['Intake Type'].value_counts()"
   ]
  },
  {
   "cell_type": "code",
   "execution_count": 17,
   "metadata": {},
   "outputs": [
    {
     "data": {
      "text/plain": [
       "Stray                 15291\n",
       "Owner Surrender        4595\n",
       "Public Assist           564\n",
       "Euthanasia Request       28\n",
       "Name: Intake Type, dtype: int64"
      ]
     },
     "execution_count": 17,
     "metadata": {},
     "output_type": "execute_result"
    }
   ],
   "source": [
    "cat_m['Intake Type'].value_counts()"
   ]
  },
  {
   "cell_type": "code",
   "execution_count": 18,
   "metadata": {},
   "outputs": [
    {
     "data": {
      "text/plain": [
       "<matplotlib.legend.Legend at 0x21ca4a61f08>"
      ]
     },
     "execution_count": 18,
     "metadata": {},
     "output_type": "execute_result"
    },
    {
     "data": {
      "image/png": "[encoded data removed]",
      "text/plain": [
       "<Figure size 864x432 with 1 Axes>"
      ]
     },
     "metadata": {
      "needs_background": "light"
     },
     "output_type": "display_data"
    }
   ],
   "source": [
    "plt.figure (figsize = (12,6))\n",
    "sns.countplot (data=dog, \n",
    "x = 'Intake Type',\n",
    "hue = 'Gender_in')\n",
    "plt.xlabel ('Пол собаки')\n",
    "plt.ylabel ('Количество')\n",
    "plt.title('Распределение пола собак по типу попадания в приют')\n",
    "plt.legend(loc = 'upper right')"
   ]
  },
  {
   "cell_type": "code",
   "execution_count": 19,
   "metadata": {},
   "outputs": [
    {
     "data": {
      "text/plain": [
       "<matplotlib.legend.Legend at 0x21ca4ad5208>"
      ]
     },
     "execution_count": 19,
     "metadata": {},
     "output_type": "execute_result"
    },
    {
     "data": {
      "image/png": "[encoded data removed]",
      "text/plain": [
       "<Figure size 864x432 with 1 Axes>"
      ]
     },
     "metadata": {
      "needs_background": "light"
     },
     "output_type": "display_data"
    }
   ],
   "source": [
    "plt.figure (figsize = (12,6))\n",
    "sns.countplot (data=cat, \n",
    "x = 'Intake Type',\n",
    "hue = 'Gender_in')\n",
    "plt.xlabel ('Пол кошки')\n",
    "plt.ylabel ('Количество')\n",
    "plt.title('Распределение пола кошек по типу попадания в приют')\n",
    "plt.legend(loc = 'upper right')"
   ]
  },
  {
   "cell_type": "code",
   "execution_count": 20,
   "metadata": {},
   "outputs": [],
   "source": [
    "dog_f_int = dog_f.groupby(['Intake Type'])['Intake Type'].count()\n",
    "dog_m_int = dog_m.groupby(['Intake Type'])['Intake Type'].count()"
   ]
  },
  {
   "cell_type": "code",
   "execution_count": 22,
   "metadata": {},
   "outputs": [
    {
     "name": "stdout",
     "output_type": "stream",
     "text": [
      "66.86712270415195 % Собак женского пола подобраны с улицы\n",
      "25.06953318800271 % Собак женского пола были сданы владельцем\n",
      "7.8453481670801075 % Собак женского пола принесли волонтеры\n",
      "0.21799594076524093 % Собак женского пола попали под запрос на эвтаназию\n"
     ]
    }
   ],
   "source": [
    "print (dog_f_int['Stray'].sum() / dog_f_int.sum() * 100, '% Собак женского пола подобраны с улицы')\n",
    "print (dog_f_int['Owner Surrender'].sum() / dog_f_int.sum() * 100, '% Собак женского пола были сданы владельцем')\n",
    "print (dog_f_int['Public Assist'].sum() / dog_f_int.sum() * 100, '% Собак женского пола принесли волонтеры')\n",
    "print (dog_f_int['Euthanasia Request'].sum() / dog_f_int.sum() * 100, '% Собак женского пола попали под запрос на эвтаназию')"
   ]
  },
  {
   "cell_type": "code",
   "execution_count": 23,
   "metadata": {
    "scrolled": true
   },
   "outputs": [
    {
     "name": "stdout",
     "output_type": "stream",
     "text": [
      "65.40411692220674 % Собак мужского пола подобраны с улицы\n",
      "21.746156798577864 % Собак мужского пола были сданы владельцем\n",
      "12.63963800173727 % Собак мужского пола принесли волонтеры\n",
      "0.21008827747813263 % Собак мужского пола попали под запрос на эвтаназию\n"
     ]
    }
   ],
   "source": [
    "print (dog_m_int['Stray'].sum() / dog_m_int.sum() * 100, '% Собак мужского пола подобраны с улицы')\n",
    "print (dog_m_int['Owner Surrender'].sum() / dog_m_int.sum() * 100, '% Собак мужского пола были сданы владельцем')\n",
    "print (dog_m_int['Public Assist'].sum() / dog_m_int.sum() * 100, '% Собак мужского пола принесли волонтеры')\n",
    "print (dog_m_int['Euthanasia Request'].sum() / dog_m_int.sum() * 100, '% Собак мужского пола попали под запрос на эвтаназию')"
   ]
  },
  {
   "cell_type": "code",
   "execution_count": 24,
   "metadata": {},
   "outputs": [],
   "source": [
    "cat_f_int = cat_f.groupby(['Intake Type'])['Intake Type'].count()\n",
    "cat_m_int = cat_m.groupby(['Intake Type'])['Intake Type'].count()"
   ]
  },
  {
   "cell_type": "code",
   "execution_count": 25,
   "metadata": {},
   "outputs": [
    {
     "name": "stdout",
     "output_type": "stream",
     "text": [
      "73.24051115773412 % Кошек женского пола подобраны с улицы\n",
      "24.351516307457562 % Кошек женского пола были сданы владельцем\n",
      "2.2363150867823767 % Кошек женского пола принесли волонтеры\n",
      "0.17165744802593935 % Кошек женского пола попали под запрос на эвтаназию\n"
     ]
    }
   ],
   "source": [
    "print (cat_f_int['Stray'].sum() / cat_f_int.sum() * 100, '% Кошек женского пола подобраны с улицы')\n",
    "print (cat_f_int['Owner Surrender'].sum() / cat_f_int.sum() * 100, '% Кошек женского пола были сданы владельцем')\n",
    "print (cat_f_int['Public Assist'].sum() / cat_f_int.sum() * 100, '% Кошек женского пола принесли волонтеры')\n",
    "print (cat_f_int['Euthanasia Request'].sum() / cat_f_int.sum() * 100, '% Кошек женского пола попали под запрос на эвтаназию')"
   ]
  },
  {
   "cell_type": "code",
   "execution_count": 26,
   "metadata": {
    "scrolled": true
   },
   "outputs": [
    {
     "name": "stdout",
     "output_type": "stream",
     "text": [
      "74.6703779665983 % Кошек мужского пола подобраны с улицы\n",
      "22.438714718234205 % Кошек мужского пола были сданы владельцем\n",
      "2.754175212423088 % Кошек мужского пола принесли волонтеры\n",
      "0.13673210274440864 % Кошек мужского пола попали под запрос на эвтаназию\n"
     ]
    }
   ],
   "source": [
    "print (cat_m_int['Stray'].sum() / cat_m_int.sum() * 100, '% Кошек мужского пола подобраны с улицы')\n",
    "print (cat_m_int['Owner Surrender'].sum() / cat_m_int.sum() * 100, '% Кошек мужского пола были сданы владельцем')\n",
    "print (cat_m_int['Public Assist'].sum() / cat_m_int.sum() * 100, '% Кошек мужского пола принесли волонтеры')\n",
    "print (cat_m_int['Euthanasia Request'].sum() / cat_m_int.sum() * 100, '% Кошек мужского пола попали под запрос на эвтаназию')"
   ]
  },
  {
   "cell_type": "markdown",
   "metadata": {},
   "source": [
    "Распределение стерилизованности животных"
   ]
  },
  {
   "cell_type": "code",
   "execution_count": 55,
   "metadata": {},
   "outputs": [
    {
     "data": {
      "text/plain": [
       "0          47216\n",
       "1          42196\n",
       "Unknown      406\n",
       "Name: Sterill_in, dtype: int64"
      ]
     },
     "execution_count": 55,
     "metadata": {},
     "output_type": "execute_result"
    }
   ],
   "source": [
    "dog['Sterill_in'].value_counts()"
   ]
  },
  {
   "cell_type": "code",
   "execution_count": 56,
   "metadata": {},
   "outputs": [
    {
     "data": {
      "text/plain": [
       "0          30219\n",
       "1          11231\n",
       "Unknown     3684\n",
       "Name: Sterill_in, dtype: int64"
      ]
     },
     "execution_count": 56,
     "metadata": {},
     "output_type": "execute_result"
    }
   ],
   "source": [
    "cat['Sterill_in'].value_counts()"
   ]
  },
  {
   "cell_type": "code",
   "execution_count": 57,
   "metadata": {},
   "outputs": [
    {
     "data": {
      "text/plain": [
       "<matplotlib.legend.Legend at 0x21ca8b22248>"
      ]
     },
     "execution_count": 57,
     "metadata": {},
     "output_type": "execute_result"
    },
    {
     "data": {
      "image/png": "[encoded data removed]",
      "text/plain": [
       "<Figure size 864x432 with 1 Axes>"
      ]
     },
     "metadata": {
      "needs_background": "light"
     },
     "output_type": "display_data"
    }
   ],
   "source": [
    "plt.figure (figsize = (12,6))\n",
    "sns.countplot (data=Analysis, \n",
    "x = 'Animal Type_in',\n",
    "hue = 'Sterill_in')\n",
    "plt.xlabel ('Вид животного')\n",
    "plt.ylabel ('Статус стерильности')\n",
    "plt.title('Количество стерилизованных и нестерилизованных собак и кошек при попадании в приют')\n",
    "plt.legend(loc = 'upper right')"
   ]
  },
  {
   "cell_type": "code",
   "execution_count": 34,
   "metadata": {},
   "outputs": [],
   "source": [
    "dog_s = dog[dog['Sterill_in'] =='1']\n",
    "dog_ns = dog[dog['Sterill_in'] =='0']\n",
    "cat_s = cat[cat['Sterill_in'] =='1']\n",
    "cat_ns = cat[cat['Sterill_in'] =='0']"
   ]
  },
  {
   "cell_type": "code",
   "execution_count": 35,
   "metadata": {},
   "outputs": [
    {
     "name": "stdout",
     "output_type": "stream",
     "text": [
      "46.979447326816455 % собак были стерильны при поступлении в приют\n",
      "52.56852746665479 % собак были нестерильны при поступлении в приют\n",
      "24.883679709310055 % кошек были стерильны при поступлении в приют\n",
      "66.95395932113263 % кошек были нестерильны при поступлении в приют\n"
     ]
    }
   ],
   "source": [
    "print (dog_s['Sterill_in'].count()/dog['Animal Type_in'].count() * 100, '% собак были стерильны при поступлении в приют')\n",
    "print (dog_ns['Sterill_in'].count()/dog['Animal Type_in'].count() * 100, '% собак были нестерильны при поступлении в приют')\n",
    "print (cat_s['Sterill_in'].count()/cat['Animal Type_in'].count() * 100, '% кошек были стерильны при поступлении в приют')\n",
    "print (cat_ns['Sterill_in'].count()/cat['Animal Type_in'].count() * 100, '% кошек были нестерильны при поступлении в приют')"
   ]
  },
  {
   "cell_type": "markdown",
   "metadata": {},
   "source": [
    "Количество кошек и собак по возрастам"
   ]
  },
  {
   "cell_type": "code",
   "execution_count": 27,
   "metadata": {},
   "outputs": [
    {
     "data": {
      "text/plain": [
       "1-3 years           44015\n",
       "1-6 months          14523\n",
       "4-6 years           12719\n",
       "7-12 months          6855\n",
       "7-9 years            5884\n",
       "9+ years             3905\n",
       "1-6 weeks            1295\n",
       "Less than 1 week      622\n",
       "Name: group of age_in, dtype: int64"
      ]
     },
     "execution_count": 27,
     "metadata": {},
     "output_type": "execute_result"
    }
   ],
   "source": [
    "dog['group of age_in'].value_counts()"
   ]
  },
  {
   "cell_type": "code",
   "execution_count": 28,
   "metadata": {},
   "outputs": [
    {
     "data": {
      "text/plain": [
       "1-6 months          15117\n",
       "1-3 years           11396\n",
       "1-6 weeks            9989\n",
       "4-6 years            2366\n",
       "7-12 months          1687\n",
       "9+ years             1597\n",
       "Less than 1 week     1551\n",
       "7-9 years            1431\n",
       "Name: group of age_in, dtype: int64"
      ]
     },
     "execution_count": 28,
     "metadata": {},
     "output_type": "execute_result"
    }
   ],
   "source": [
    "cat['group of age_in'].value_counts()"
   ]
  },
  {
   "cell_type": "code",
   "execution_count": 30,
   "metadata": {
    "scrolled": true
   },
   "outputs": [
    {
     "data": {
      "image/png": "[encoded data removed]",
      "text/plain": [
       "<Figure size 864x432 with 1 Axes>"
      ]
     },
     "metadata": {
      "needs_background": "light"
     },
     "output_type": "display_data"
    }
   ],
   "source": [
    "plt.figure(figsize=(12,6)), sns.countplot(data=Analysis, x='group of age_in', hue= 'Animal Type_in') \n",
    "plt.legend(loc='upper right') \n",
    "plt.xlabel ('Возраст животного')\n",
    "plt.ylabel ('Количество')\n",
    "plt.title('Распределение возрастов животных при попадании в приют')\n",
    "plt.show()"
   ]
  },
  {
   "cell_type": "markdown",
   "metadata": {},
   "source": [
    "Кондиции собак и кошек при попадании в приют"
   ]
  },
  {
   "cell_type": "code",
   "execution_count": 31,
   "metadata": {},
   "outputs": [
    {
     "data": {
      "text/plain": [
       "Normal      83728\n",
       "Injured      3022\n",
       "Sick         1524\n",
       "Nursing       934\n",
       "Aged          388\n",
       "Other         148\n",
       "Pregnant       57\n",
       "Feral           9\n",
       "Behavior        4\n",
       "Medical         4\n",
       "Name: Intake Condition, dtype: int64"
      ]
     },
     "execution_count": 31,
     "metadata": {},
     "output_type": "execute_result"
    }
   ],
   "source": [
    "dog['Intake Condition'].value_counts()"
   ]
  },
  {
   "cell_type": "code",
   "execution_count": 32,
   "metadata": {},
   "outputs": [
    {
     "data": {
      "text/plain": [
       "Normal      38939\n",
       "Injured      2229\n",
       "Nursing      2010\n",
       "Sick         1697\n",
       "Feral          93\n",
       "Other          90\n",
       "Aged           53\n",
       "Pregnant       22\n",
       "Medical         1\n",
       "Name: Intake Condition, dtype: int64"
      ]
     },
     "execution_count": 32,
     "metadata": {},
     "output_type": "execute_result"
    }
   ],
   "source": [
    "cat['Intake Condition'].value_counts()"
   ]
  },
  {
   "cell_type": "code",
   "execution_count": 34,
   "metadata": {},
   "outputs": [
    {
     "data": {
      "image/png": "[encoded data removed]",
      "text/plain": [
       "<Figure size 864x432 with 1 Axes>"
      ]
     },
     "metadata": {
      "needs_background": "light"
     },
     "output_type": "display_data"
    }
   ],
   "source": [
    "plt.figure(figsize=(12,6)), sns.countplot(data=Analysis, x='Intake Condition', hue= 'Animal Type_in') \n",
    "plt.legend(loc='upper right') \n",
    "plt.xlabel ('Состояние животного')\n",
    "plt.ylabel ('Количество')\n",
    "plt.title('Распределение состояний животных при попадании в приют')\n",
    "plt.show()"
   ]
  },
  {
   "cell_type": "markdown",
   "metadata": {},
   "source": [
    "В какой день недели животные чаще попадают в приют"
   ]
  },
  {
   "cell_type": "code",
   "execution_count": 41,
   "metadata": {},
   "outputs": [],
   "source": [
    "Analysis['DateTime_in'] = pd.to_datetime(Analysis['DateTime_in']) \n",
    "Analysis['DateTime_out'] = pd.to_datetime(Analysis['DateTime_out'])\n",
    "Analysis['Date of Birth'] = pd.to_datetime(Analysis['Date of Birth'])"
   ]
  },
  {
   "cell_type": "code",
   "execution_count": 53,
   "metadata": {
    "scrolled": false
   },
   "outputs": [
    {
     "data": {
      "text/plain": [
       "<matplotlib.axes._subplots.AxesSubplot at 0x21ca8ac5dc8>"
      ]
     },
     "execution_count": 53,
     "metadata": {},
     "output_type": "execute_result"
    },
    {
     "data": {
      "image/png": "[encoded data removed]",
      "text/plain": [
       "<Figure size 1440x360 with 1 Axes>"
      ]
     },
     "metadata": {
      "needs_background": "light"
     },
     "output_type": "display_data"
    }
   ],
   "source": [
    "Analysis['DateTime_in'].dt.dayofweek.value_counts().sort_index().plot(kind=\"bar\", figsize=(20,5), title = 'Распределение количества попаданий в приют по дням недели')"
   ]
  },
  {
   "cell_type": "code",
   "execution_count": 60,
   "metadata": {},
   "outputs": [
    {
     "data": {
      "text/plain": [
       "0    20531\n",
       "5    20183\n",
       "2    19872\n",
       "1    19204\n",
       "4    19035\n",
       "3    18659\n",
       "6    17468\n",
       "Name: DateTime_in, dtype: int64"
      ]
     },
     "execution_count": 60,
     "metadata": {},
     "output_type": "execute_result"
    }
   ],
   "source": [
    "Analysis['DateTime_in'].dt.dayofweek.value_counts()"
   ]
  },
  {
   "cell_type": "markdown",
   "metadata": {},
   "source": [
    "В какой месяц животные чаще попадают в приют"
   ]
  },
  {
   "cell_type": "code",
   "execution_count": 54,
   "metadata": {
    "scrolled": false
   },
   "outputs": [
    {
     "data": {
      "text/plain": [
       "<matplotlib.axes._subplots.AxesSubplot at 0x21ca8a62388>"
      ]
     },
     "execution_count": 54,
     "metadata": {},
     "output_type": "execute_result"
    },
    {
     "data": {
      "image/png": "[encoded data removed]",
      "text/plain": [
       "<Figure size 1440x360 with 1 Axes>"
      ]
     },
     "metadata": {
      "needs_background": "light"
     },
     "output_type": "display_data"
    }
   ],
   "source": [
    "Analysis['DateTime_in'].dt.month.value_counts().sort_index().plot(kind='bar', figsize=(20,5), title = 'Распределение количества попаданий в приют по месяцам')"
   ]
  },
  {
   "cell_type": "code",
   "execution_count": 61,
   "metadata": {
    "scrolled": false
   },
   "outputs": [
    {
     "data": {
      "text/plain": [
       "5     14176\n",
       "6     13257\n",
       "10    12230\n",
       "7     12205\n",
       "9     11998\n",
       "8     11605\n",
       "4     11083\n",
       "3     10142\n",
       "11    10110\n",
       "1      9667\n",
       "12     9495\n",
       "2      8984\n",
       "Name: DateTime_in, dtype: int64"
      ]
     },
     "execution_count": 61,
     "metadata": {},
     "output_type": "execute_result"
    }
   ],
   "source": [
    "Analysis['DateTime_in'].dt.month.value_counts()"
   ]
  },
  {
   "cell_type": "code",
   "execution_count": 62,
   "metadata": {},
   "outputs": [
    {
     "data": {
      "text/plain": [
       "Domestic Shorthair Mix      33052\n",
       "Domestic Shorthair           3657\n",
       "Domestic Medium Hair Mix     3336\n",
       "Domestic Longhair Mix        1686\n",
       "Siamese Mix                  1354\n",
       "Name: Breed_out, dtype: int64"
      ]
     },
     "execution_count": 62,
     "metadata": {},
     "output_type": "execute_result"
    }
   ],
   "source": [
    "cat['Breed_out'].value_counts().head(5)"
   ]
  },
  {
   "cell_type": "code",
   "execution_count": 63,
   "metadata": {},
   "outputs": [
    {
     "data": {
      "text/plain": [
       "Pit Bull Mix                 13587\n",
       "Labrador Retriever Mix        9166\n",
       "Chihuahua Shorthair Mix       7409\n",
       "German Shepherd Mix           3950\n",
       "Australian Cattle Dog Mix     1867\n",
       "Name: Breed_out, dtype: int64"
      ]
     },
     "execution_count": 63,
     "metadata": {},
     "output_type": "execute_result"
    }
   ],
   "source": [
    "dog['Breed_out'].value_counts().head(5)"
   ]
  },
  {
   "cell_type": "markdown",
   "metadata": {},
   "source": [
    "## Вывод:"
   ]
  },
  {
   "cell_type": "markdown",
   "metadata": {},
   "source": [
    "За 6 лет работы через приют прошло порядка 135 тысяч животных, из них 66,6 % - это собаки и 33,4% - кошки.\n",
    "Самый распространенный способ попадания - отлов на улицах города, ему было подвержено 66,1% собак и 75,9% кошек. \n",
    "Соотношение мужских и женских особей у кошек примерно одинаково, у собак - мужских особей на 10% больше, чем женских. \n",
    "При поступлении были стерильными 47,0 % собак и 24,9% кошек. Чаще всего в приют попадают собаки в возрасте от 1 до 3 лет и кошки в возрасте от 1 до 6 месяцев. \n",
    "Состояние кошек и собак по прибытию в приют - нормальное. Наибольшее количество попаданий происходит в понедельник и субботу, а также в мае, июне и октябре. \n",
    "Самые распространенные породы - питбуль у собак и домашняя короткошерстная у кошек."
   ]
  },
  {
   "cell_type": "markdown",
   "metadata": {},
   "source": [
    "# Анализ факторов выбытия из приюта"
   ]
  },
  {
   "cell_type": "markdown",
   "metadata": {},
   "source": [
    "Распределение собак и кошек по типу выбытия из приюта"
   ]
  },
  {
   "cell_type": "code",
   "execution_count": 7,
   "metadata": {},
   "outputs": [
    {
     "data": {
      "text/plain": [
       "Adoption           41147\n",
       "Return to Owner    30735\n",
       "Transfer           15696\n",
       "Euthanasia          1927\n",
       "Died                 245\n",
       "Missing               46\n",
       "Disposal              22\n",
       "Name: Outcome Type, dtype: int64"
      ]
     },
     "execution_count": 7,
     "metadata": {},
     "output_type": "execute_result"
    }
   ],
   "source": [
    "dog['Outcome Type'].value_counts()"
   ]
  },
  {
   "cell_type": "code",
   "execution_count": 8,
   "metadata": {
    "scrolled": true
   },
   "outputs": [
    {
     "data": {
      "text/plain": [
       "Adoption           20726\n",
       "Transfer           19381\n",
       "Return to Owner     2537\n",
       "Euthanasia          1790\n",
       "Died                 620\n",
       "Disposal              42\n",
       "Missing               38\n",
       "Name: Outcome Type, dtype: int64"
      ]
     },
     "execution_count": 8,
     "metadata": {},
     "output_type": "execute_result"
    }
   ],
   "source": [
    "cat['Outcome Type'].value_counts()"
   ]
  },
  {
   "cell_type": "code",
   "execution_count": 9,
   "metadata": {},
   "outputs": [
    {
     "data": {
      "text/plain": [
       "<matplotlib.legend.Legend at 0x1e6106ed8c8>"
      ]
     },
     "execution_count": 9,
     "metadata": {},
     "output_type": "execute_result"
    },
    {
     "data": {
      "image/png": "[encoded data removed]",
      "text/plain": [
       "<Figure size 864x432 with 1 Axes>"
      ]
     },
     "metadata": {
      "needs_background": "light"
     },
     "output_type": "display_data"
    }
   ],
   "source": [
    "plt.figure (figsize = (12,6))\n",
    "sns.countplot (data=Analysis, \n",
    "x = 'Outcome Type',\n",
    "hue = 'Animal Type_in')\n",
    "plt.title('Распределение количества собак и кошек по типу выбытия из приюта')\n",
    "plt.legend(loc = 'upper right')"
   ]
  },
  {
   "cell_type": "code",
   "execution_count": 10,
   "metadata": {},
   "outputs": [],
   "source": [
    "dog_out = dog.groupby(['Outcome Type'])['Outcome Type'].count()"
   ]
  },
  {
   "cell_type": "code",
   "execution_count": 11,
   "metadata": {},
   "outputs": [
    {
     "name": "stdout",
     "output_type": "stream",
     "text": [
      "45.81152998285422 % собак было усыновлено\n",
      "17.475339018904897 % собак отправлено в другие приюты\n",
      "34.219198824289116 % собак вернули владельцам\n",
      "2.1454496871451156 % собак было подвергнуто эвтаназии\n",
      "0.27277383152597473 % собак умерло\n",
      "0.02449397670845488 % собак утилизировано\n",
      "0.05121467857222384 % собак пропало без вести\n"
     ]
    }
   ],
   "source": [
    "print (dog_out['Adoption'].sum() / dog_out.sum() * 100, '% собак было усыновлено')\n",
    "print (dog_out['Transfer'].sum() / dog_out.sum() * 100, '% собак отправлено в другие приюты')\n",
    "print (dog_out['Return to Owner'].sum() / dog_out.sum() * 100, '% собак вернули владельцам')\n",
    "print (dog_out['Euthanasia'].sum() / dog_out.sum() * 100, '% собак было подвергнуто эвтаназии')\n",
    "print (dog_out['Died'].sum() / dog_out.sum() * 100, '% собак умерло')\n",
    "print (dog_out['Disposal'].sum() / dog_out.sum() * 100, '% собак утилизировано')\n",
    "print (dog_out['Missing'].sum() / dog_out.sum() * 100, '% собак пропало без вести')"
   ]
  },
  {
   "cell_type": "code",
   "execution_count": 12,
   "metadata": {},
   "outputs": [],
   "source": [
    "cat_out = cat.groupby(['Outcome Type'])['Outcome Type'].count()"
   ]
  },
  {
   "cell_type": "code",
   "execution_count": 13,
   "metadata": {},
   "outputs": [
    {
     "name": "stdout",
     "output_type": "stream",
     "text": [
      "45.92103513980591 % кошек было усыновлено\n",
      "42.94102007355874 % кошек отправлено в другие приюты\n",
      "5.62103957105508 % кошек вернули владельцам\n",
      "3.965968006380999 % кошек было подвергнуто эвтаназии\n",
      "1.3736872424336422 % кошек умерло\n",
      "0.0930562325519564 % кошек утилизировано\n",
      "0.08419373421367483 % кошек пропало без вести\n"
     ]
    }
   ],
   "source": [
    "print (cat_out['Adoption'].sum() / cat_out.sum() * 100, '% кошек было усыновлено')\n",
    "print (cat_out['Transfer'].sum() / cat_out.sum() * 100, '% кошек отправлено в другие приюты')\n",
    "print (cat_out['Return to Owner'].sum() / cat_out.sum() * 100, '% кошек вернули владельцам')\n",
    "print (cat_out['Euthanasia'].sum() / cat_out.sum() * 100, '% кошек было подвергнуто эвтаназии')\n",
    "print (cat_out['Died'].sum() / cat_out.sum() * 100, '% кошек умерло')\n",
    "print (cat_out['Disposal'].sum() / cat_out.sum() * 100, '% кошек утилизировано')\n",
    "print (cat_out['Missing'].sum() / cat_out.sum() * 100, '% кошек пропало без вести')"
   ]
  },
  {
   "cell_type": "markdown",
   "metadata": {},
   "source": [
    "Остальные характеристики будем рассматривать у животных, покинувших приют по четырем причинам: усыновление, возвращение к хозяину, переезд, эвтаназия"
   ]
  },
  {
   "cell_type": "markdown",
   "metadata": {},
   "source": [
    "Соотношение пола собак и кошек по типу выбытия из приюта"
   ]
  },
  {
   "cell_type": "code",
   "execution_count": 15,
   "metadata": {},
   "outputs": [
    {
     "data": {
      "text/plain": [
       "Adoption           19811\n",
       "Return to Owner    11924\n",
       "Transfer            7299\n",
       "Euthanasia           752\n",
       "Died                  97\n",
       "Missing               19\n",
       "Disposal               7\n",
       "Name: Outcome Type, dtype: int64"
      ]
     },
     "execution_count": 15,
     "metadata": {},
     "output_type": "execute_result"
    }
   ],
   "source": [
    "dog_f['Outcome Type'].value_counts()"
   ]
  },
  {
   "cell_type": "code",
   "execution_count": 16,
   "metadata": {},
   "outputs": [
    {
     "data": {
      "text/plain": [
       "Adoption           21333\n",
       "Return to Owner    18738\n",
       "Transfer            8131\n",
       "Euthanasia          1138\n",
       "Died                 123\n",
       "Missing               27\n",
       "Disposal              13\n",
       "Name: Outcome Type, dtype: int64"
      ]
     },
     "execution_count": 16,
     "metadata": {},
     "output_type": "execute_result"
    }
   ],
   "source": [
    "dog_m['Outcome Type'].value_counts()"
   ]
  },
  {
   "cell_type": "code",
   "execution_count": 17,
   "metadata": {},
   "outputs": [
    {
     "data": {
      "text/plain": [
       "Adoption           10594\n",
       "Transfer            8336\n",
       "Return to Owner     1094\n",
       "Euthanasia           673\n",
       "Died                 237\n",
       "Missing               24\n",
       "Disposal              14\n",
       "Name: Outcome Type, dtype: int64"
      ]
     },
     "execution_count": 17,
     "metadata": {},
     "output_type": "execute_result"
    }
   ],
   "source": [
    "cat_f['Outcome Type'].value_counts()"
   ]
  },
  {
   "cell_type": "code",
   "execution_count": 18,
   "metadata": {},
   "outputs": [
    {
     "data": {
      "text/plain": [
       "Adoption           10131\n",
       "Transfer            7814\n",
       "Return to Owner     1402\n",
       "Euthanasia           823\n",
       "Died                 286\n",
       "Missing               12\n",
       "Disposal              10\n",
       "Name: Outcome Type, dtype: int64"
      ]
     },
     "execution_count": 18,
     "metadata": {},
     "output_type": "execute_result"
    }
   ],
   "source": [
    "cat_m['Outcome Type'].value_counts()"
   ]
  },
  {
   "cell_type": "code",
   "execution_count": 19,
   "metadata": {},
   "outputs": [
    {
     "data": {
      "text/plain": [
       "<matplotlib.legend.Legend at 0x1e615f40408>"
      ]
     },
     "execution_count": 19,
     "metadata": {},
     "output_type": "execute_result"
    },
    {
     "data": {
      "image/png": "[encoded data removed]",
      "text/plain": [
       "<Figure size 864x432 with 1 Axes>"
      ]
     },
     "metadata": {
      "needs_background": "light"
     },
     "output_type": "display_data"
    }
   ],
   "source": [
    "plt.figure (figsize = (12,6))\n",
    "sns.countplot (data=dog, \n",
    "x = 'Outcome Type',\n",
    "hue = 'Gender_in')\n",
    "plt.xlabel ('Пол собаки')\n",
    "plt.ylabel ('Количество')\n",
    "plt.title('Распределение пола собак по типу выбытия из приюта')\n",
    "plt.legend(loc = 'upper right')"
   ]
  },
  {
   "cell_type": "code",
   "execution_count": 21,
   "metadata": {
    "scrolled": true
   },
   "outputs": [
    {
     "data": {
      "text/plain": [
       "<matplotlib.legend.Legend at 0x1e6175a3248>"
      ]
     },
     "execution_count": 21,
     "metadata": {},
     "output_type": "execute_result"
    },
    {
     "data": {
      "image/png": "[encoded data removed]",
      "text/plain": [
       "<Figure size 864x432 with 1 Axes>"
      ]
     },
     "metadata": {
      "needs_background": "light"
     },
     "output_type": "display_data"
    }
   ],
   "source": [
    "plt.figure (figsize = (12,6))\n",
    "sns.countplot (data=cat, \n",
    "x = 'Outcome Type',\n",
    "hue = 'Gender_in')\n",
    "plt.xlabel ('Пол кошки')\n",
    "plt.ylabel ('Количество')\n",
    "plt.title('Распределение пола кошек по типу выбытия из приюта')\n",
    "plt.legend(loc = 'upper right')"
   ]
  },
  {
   "cell_type": "code",
   "execution_count": 22,
   "metadata": {},
   "outputs": [],
   "source": [
    "dog_f_int = dog_f.groupby(['Outcome Type'])['Outcome Type'].count()\n",
    "dog_m_int = dog_m.groupby(['Outcome Type'])['Outcome Type'].count()"
   ]
  },
  {
   "cell_type": "code",
   "execution_count": 23,
   "metadata": {},
   "outputs": [
    {
     "name": "stdout",
     "output_type": "stream",
     "text": [
      "49.64043198276078 % Собак женского пола были усыновлены\n",
      "18.289107720063143 % Собак женского пола отправлено в другие приюты\n",
      "29.877972387180833 % Собак женского пола возвращены хозяину\n",
      "1.8842867523616227 % Собак женского пола подверглись эвтаназии\n"
     ]
    }
   ],
   "source": [
    "print (dog_f_int['Adoption'].sum() / dog_f_int.sum() * 100, '% Собак женского пола были усыновлены')\n",
    "print (dog_f_int['Transfer'].sum() / dog_f_int.sum() * 100, '% Собак женского пола отправлено в другие приюты')\n",
    "print (dog_f_int['Return to Owner'].sum() / dog_f_int.sum() * 100, '% Собак женского пола возвращены хозяину')\n",
    "print (dog_f_int['Euthanasia'].sum() / dog_f_int.sum() * 100, '% Собак женского пола подверглись эвтаназии')"
   ]
  },
  {
   "cell_type": "code",
   "execution_count": 24,
   "metadata": {},
   "outputs": [
    {
     "name": "stdout",
     "output_type": "stream",
     "text": [
      "43.094357917701956 % Собак мужского пола  были усыновлены\n",
      "16.425267155525926 % Собак мужского пола отправлено в другие приюты\n",
      "37.852251378704324 % Собак мужского пола возвращены хозяину\n",
      "2.2988505747126435 % Собак мужского пола подверглись эвтаназии\n"
     ]
    }
   ],
   "source": [
    "print (dog_m_int['Adoption'].sum() / dog_m_int.sum() * 100, '% Собак мужского пола  были усыновлены')\n",
    "print (dog_m_int['Transfer'].sum() / dog_m_int.sum() * 100, '% Собак мужского пола отправлено в другие приюты')\n",
    "print (dog_m_int['Return to Owner'].sum() / dog_m_int.sum() * 100, '% Собак мужского пола возвращены хозяину')\n",
    "print (dog_m_int['Euthanasia'].sum() / dog_m_int.sum() * 100, '% Собак мужского пола подверглись эвтаназии')"
   ]
  },
  {
   "cell_type": "code",
   "execution_count": 25,
   "metadata": {},
   "outputs": [],
   "source": [
    "cat_f_int = cat_f.groupby(['Outcome Type'])['Outcome Type'].count()\n",
    "cat_m_int = cat_m.groupby(['Outcome Type'])['Outcome Type'].count()"
   ]
  },
  {
   "cell_type": "code",
   "execution_count": 26,
   "metadata": {},
   "outputs": [
    {
     "name": "stdout",
     "output_type": "stream",
     "text": [
      "50.51497234407781 % Кошек женского пола были усыновлены\n",
      "39.74823574289529 % Кошек женского пола были отправлено в другие приюты\n",
      "5.2164791150104906 % Кошек женского пола возвращены хозяину\n",
      "3.209040625596033 % Кошек женского пола подверглись эвтаназии\n"
     ]
    }
   ],
   "source": [
    "print (cat_f_int['Adoption'].sum() / cat_f_int.sum() * 100, '% Кошек женского пола были усыновлены')\n",
    "print (cat_f_int['Transfer'].sum() / cat_f_int.sum() * 100, '% Кошек женского пола были отправлено в другие приюты')\n",
    "print (cat_f_int['Return to Owner'].sum() / cat_f_int.sum() * 100, '% Кошек женского пола возвращены хозяину')\n",
    "print (cat_f_int['Euthanasia'].sum() / cat_f_int.sum() * 100, '% Кошек женского пола подверглись эвтаназии')"
   ]
  },
  {
   "cell_type": "code",
   "execution_count": 27,
   "metadata": {},
   "outputs": [
    {
     "name": "stdout",
     "output_type": "stream",
     "text": [
      "49.47260474655728 % Кошек женского пола были усыновлены\n",
      "38.15802324445747 % Кошек женского пола были отправлено в другие приюты\n",
      "6.84637171598789 % Кошек женского пола возвращены хозяину\n",
      "4.018947162808868 % Кошек женского пола подверглись эвтаназии\n"
     ]
    }
   ],
   "source": [
    "print (cat_m_int['Adoption'].sum() / cat_m_int.sum() * 100, '% Кошек женского пола были усыновлены')\n",
    "print (cat_m_int['Transfer'].sum() / cat_m_int.sum() * 100, '% Кошек женского пола были отправлено в другие приюты')\n",
    "print (cat_m_int['Return to Owner'].sum() / cat_m_int.sum() * 100, '% Кошек женского пола возвращены хозяину')\n",
    "print (cat_m_int['Euthanasia'].sum() / cat_m_int.sum() * 100, '% Кошек женского пола подверглись эвтаназии')"
   ]
  },
  {
   "cell_type": "markdown",
   "metadata": {},
   "source": [
    "Распределение стерилизованности животных при выбытиии из приюта"
   ]
  },
  {
   "cell_type": "code",
   "execution_count": 28,
   "metadata": {},
   "outputs": [
    {
     "data": {
      "text/plain": [
       "1          73018\n",
       "0          16392\n",
       "Unknown      408\n",
       "Name: Sterill_out, dtype: int64"
      ]
     },
     "execution_count": 28,
     "metadata": {},
     "output_type": "execute_result"
    }
   ],
   "source": [
    "dog['Sterill_out'].value_counts()"
   ]
  },
  {
   "cell_type": "code",
   "execution_count": 29,
   "metadata": {
    "scrolled": true
   },
   "outputs": [
    {
     "data": {
      "text/plain": [
       "1          27819\n",
       "0          13631\n",
       "Unknown     3684\n",
       "Name: Sterill_out, dtype: int64"
      ]
     },
     "execution_count": 29,
     "metadata": {},
     "output_type": "execute_result"
    }
   ],
   "source": [
    "cat['Sterill_out'].value_counts()"
   ]
  },
  {
   "cell_type": "code",
   "execution_count": 30,
   "metadata": {},
   "outputs": [
    {
     "data": {
      "text/plain": [
       "<matplotlib.legend.Legend at 0x1e61766c5c8>"
      ]
     },
     "execution_count": 30,
     "metadata": {},
     "output_type": "execute_result"
    },
    {
     "data": {
      "image/png": "[encoded data removed]",
      "text/plain": [
       "<Figure size 864x432 with 1 Axes>"
      ]
     },
     "metadata": {
      "needs_background": "light"
     },
     "output_type": "display_data"
    }
   ],
   "source": [
    "plt.figure (figsize = (12,6))\n",
    "sns.countplot (data=Analysis, \n",
    "x = 'Animal Type_in',\n",
    "hue = 'Sterill_out')\n",
    "plt.xlabel ('Вид животного')\n",
    "plt.ylabel ('Статус стерильности')\n",
    "plt.title('Количество стерилизованных и нестерилизованных собак и кошек при выбытии из приюта')\n",
    "plt.legend(loc = 'upper right')"
   ]
  },
  {
   "cell_type": "code",
   "execution_count": 31,
   "metadata": {},
   "outputs": [],
   "source": [
    "dog_so = dog[dog['Sterill_out'] =='1']\n",
    "dog_nos = dog[dog['Sterill_out'] =='0']\n",
    "cat_so = cat[cat['Sterill_out'] =='1']\n",
    "cat_nos = cat[cat['Sterill_out'] =='0']"
   ]
  },
  {
   "cell_type": "code",
   "execution_count": 33,
   "metadata": {
    "scrolled": true
   },
   "outputs": [
    {
     "name": "stdout",
     "output_type": "stream",
     "text": [
      "81.29550869536173 % собак стерильны при выбытии из приюта\n",
      "18.250239372954198 % собак нестерильны при выбытии из приюта\n",
      "61.636460318163685 % кошек стерильны при выбытии из приюта\n",
      "30.201178712278992 % кошек нестерильны при выбытии из приюта\n"
     ]
    }
   ],
   "source": [
    "print (dog_so['Sterill_out'].count()/dog['Animal Type_in'].count() * 100, '% собак стерильны при выбытии из приюта')\n",
    "print (dog_nos['Sterill_out'].count()/dog['Animal Type_in'].count() * 100, '% собак нестерильны при выбытии из приюта')\n",
    "print (cat_so['Sterill_out'].count()/cat['Animal Type_in'].count() * 100, '% кошек стерильны при выбытии из приюта')\n",
    "print (cat_nos['Sterill_out'].count()/cat['Animal Type_in'].count() * 100, '% кошек нестерильны при выбытии из приюта')"
   ]
  },
  {
   "cell_type": "markdown",
   "metadata": {},
   "source": [
    "Сколько дней находятся в приюте кошки/собаки прежде, чем его покинут"
   ]
  },
  {
   "cell_type": "code",
   "execution_count": 38,
   "metadata": {},
   "outputs": [
    {
     "data": {
      "text/plain": [
       "<matplotlib.axes._subplots.AxesSubplot at 0x1e6177f8448>"
      ]
     },
     "execution_count": 38,
     "metadata": {},
     "output_type": "execute_result"
    },
    {
     "data": {
      "image/png": "[encoded data removed]",
      "text/plain": [
       "<Figure size 1080x720 with 1 Axes>"
      ]
     },
     "metadata": {
      "needs_background": "light"
     },
     "output_type": "display_data"
    }
   ],
   "source": [
    "dog['group of stay'].value_counts().plot(kind='bar', figsize=(15,10), title = 'Количество дней, проведенных в приюте, у собак')"
   ]
  },
  {
   "cell_type": "code",
   "execution_count": 39,
   "metadata": {
    "scrolled": true
   },
   "outputs": [
    {
     "data": {
      "text/plain": [
       "<matplotlib.axes._subplots.AxesSubplot at 0x1e6178a8208>"
      ]
     },
     "execution_count": 39,
     "metadata": {},
     "output_type": "execute_result"
    },
    {
     "data": {
      "image/png": "[encoded data removed]",
      "text/plain": [
       "<Figure size 1080x720 with 1 Axes>"
      ]
     },
     "metadata": {
      "needs_background": "light"
     },
     "output_type": "display_data"
    }
   ],
   "source": [
    "cat['group of stay'].value_counts().plot(kind='bar', figsize=(15,10), title = 'Количество дней, проведенных в приюте, у кошек')"
   ]
  },
  {
   "cell_type": "markdown",
   "metadata": {},
   "source": [
    "Сколько дней находятся в приюте кошки/собаки прежде, чем их усыновят"
   ]
  },
  {
   "cell_type": "code",
   "execution_count": 43,
   "metadata": {},
   "outputs": [],
   "source": [
    "dog_a = dog[dog['Outcome Type'] == 'Adoption']\n",
    "cat_a = cat[cat['Outcome Type'] == 'Adoption']"
   ]
  },
  {
   "cell_type": "code",
   "execution_count": 45,
   "metadata": {},
   "outputs": [
    {
     "data": {
      "text/plain": [
       "<matplotlib.axes._subplots.AxesSubplot at 0x1e61a16f708>"
      ]
     },
     "execution_count": 45,
     "metadata": {},
     "output_type": "execute_result"
    },
    {
     "data": {
      "image/png": "[encoded data removed]",
      "text/plain": [
       "<Figure size 1080x720 with 1 Axes>"
      ]
     },
     "metadata": {
      "needs_background": "light"
     },
     "output_type": "display_data"
    }
   ],
   "source": [
    "dog_a['group of stay'].value_counts().plot(kind='bar', figsize=(15,10), title = 'Количество дней, проведенных собаками в приюте, до усыновления')"
   ]
  },
  {
   "cell_type": "code",
   "execution_count": 46,
   "metadata": {},
   "outputs": [
    {
     "data": {
      "text/plain": [
       "<matplotlib.axes._subplots.AxesSubplot at 0x1e61a1e4d48>"
      ]
     },
     "execution_count": 46,
     "metadata": {},
     "output_type": "execute_result"
    },
    {
     "data": {
      "image/png": "[encoded data removed]",
      "text/plain": [
       "<Figure size 1080x720 with 1 Axes>"
      ]
     },
     "metadata": {
      "needs_background": "light"
     },
     "output_type": "display_data"
    }
   ],
   "source": [
    "cat_a['group of stay'].value_counts().plot(kind='bar', figsize=(15,10), title = 'Количество дней, проведенных кошками в приюте, до усыновления')"
   ]
  },
  {
   "cell_type": "markdown",
   "metadata": {},
   "source": [
    "Кто дольше находится в приюте, кошки или собаки?\n",
    "Посмотрим среднее значение и медиану количества дней, проведенных в приюте у кошек, и у собак"
   ]
  },
  {
   "cell_type": "code",
   "execution_count": 54,
   "metadata": {
    "scrolled": true
   },
   "outputs": [
    {
     "name": "stdout",
     "output_type": "stream",
     "text": [
      "Dog mean: 14.40371640428422\n",
      "Cat mean: 19.505627686444807\n"
     ]
    }
   ],
   "source": [
    "print ('Dog mean:', dog['days_of_stay'].mean())\n",
    "print ('Cat mean:', cat['days_of_stay'].mean())"
   ]
  },
  {
   "cell_type": "code",
   "execution_count": 55,
   "metadata": {},
   "outputs": [
    {
     "name": "stdout",
     "output_type": "stream",
     "text": [
      "Dog Median: 5.0\n",
      "Cat Median: 5.0\n"
     ]
    }
   ],
   "source": [
    "print ('Dog Median:', dog['days_of_stay'].median())\n",
    "print ('Cat Median:', cat['days_of_stay'].median())"
   ]
  },
  {
   "cell_type": "markdown",
   "metadata": {},
   "source": [
    "Гипотеза: среднее количество дней, проведенных в приюте, одинаково и для собак, и для кошек"
   ]
  },
  {
   "cell_type": "code",
   "execution_count": 57,
   "metadata": {},
   "outputs": [],
   "source": [
    "import scipy.stats as sts"
   ]
  },
  {
   "cell_type": "code",
   "execution_count": 59,
   "metadata": {},
   "outputs": [
    {
     "data": {
      "text/plain": [
       "Ttest_indResult(statistic=-3.886262755072046, pvalue=0.00010184791914660497)"
      ]
     },
     "execution_count": 59,
     "metadata": {},
     "output_type": "execute_result"
    }
   ],
   "source": [
    "kol_d =Analysis.loc[Analysis['Animal Type_in']=='Dog', 'days_of_stay']\n",
    "kol_c = Analysis.loc[Analysis['Animal Type_in']=='Cat', 'days_of_stay']\n",
    "sts.ttest_ind(kol_d, kol_c)"
   ]
  },
  {
   "cell_type": "markdown",
   "metadata": {},
   "source": [
    "Вывод:"
   ]
  },
  {
   "cell_type": "markdown",
   "metadata": {},
   "source": [
    "Для тех, кого усыновили"
   ]
  },
  {
   "cell_type": "code",
   "execution_count": 60,
   "metadata": {},
   "outputs": [
    {
     "name": "stdout",
     "output_type": "stream",
     "text": [
      "Dog Mean:  19.351301431453084\n",
      "Cat Mean:  31.209640065618064\n"
     ]
    }
   ],
   "source": [
    "print ('Dog Mean: ', dog_a['days_of_stay'].mean())\n",
    "print ('Cat Mean: ', cat_a['days_of_stay'].mean())"
   ]
  },
  {
   "cell_type": "code",
   "execution_count": 61,
   "metadata": {},
   "outputs": [
    {
     "name": "stdout",
     "output_type": "stream",
     "text": [
      "Dog Median:  6.0\n",
      "Cat Median:  24.0\n"
     ]
    }
   ],
   "source": [
    "print ('Dog Median: ', dog_a['days_of_stay'].median())\n",
    "print ('Cat Median: ', cat_a['days_of_stay'].median())"
   ]
  },
  {
   "cell_type": "markdown",
   "metadata": {},
   "source": [
    "Гипотеза: количество дней до усыновления у собак и кошек одинаково"
   ]
  },
  {
   "cell_type": "code",
   "execution_count": 64,
   "metadata": {},
   "outputs": [
    {
     "data": {
      "text/plain": [
       "Ttest_indResult(statistic=-6.89101197753907, pvalue=5.592491820011965e-12)"
      ]
     },
     "execution_count": 64,
     "metadata": {},
     "output_type": "execute_result"
    }
   ],
   "source": [
    "sts.ttest_ind(dog_a['days_of_stay'], cat_a['days_of_stay'])"
   ]
  },
  {
   "cell_type": "markdown",
   "metadata": {},
   "source": [
    "В какой день чаще всего усыновляют животных"
   ]
  },
  {
   "cell_type": "code",
   "execution_count": 70,
   "metadata": {},
   "outputs": [],
   "source": [
    "Analysis['DateTime_in'] = pd.to_datetime(Analysis['DateTime_in']) \n",
    "Analysis['DateTime_out'] = pd.to_datetime(Analysis['DateTime_out'])\n",
    "Analysis['Date of Birth'] = pd.to_datetime(Analysis['Date of Birth'])"
   ]
  },
  {
   "cell_type": "code",
   "execution_count": 71,
   "metadata": {},
   "outputs": [
    {
     "data": {
      "text/plain": [
       "<matplotlib.axes._subplots.AxesSubplot at 0x1e61a362388>"
      ]
     },
     "execution_count": 71,
     "metadata": {},
     "output_type": "execute_result"
    },
    {
     "data": {
      "image/png": "[encoded data removed]",
      "text/plain": [
       "<Figure size 1440x360 with 1 Axes>"
      ]
     },
     "metadata": {
      "needs_background": "light"
     },
     "output_type": "display_data"
    }
   ],
   "source": [
    "Analysis[Analysis['Outcome Type'] == 'Adoption']['DateTime_out'].dt.dayofweek.value_counts().sort_index().plot(kind=\"bar\", figsize=(20,5), title = 'В какой день недели чаще усыновляют животных')"
   ]
  },
  {
   "cell_type": "code",
   "execution_count": 73,
   "metadata": {},
   "outputs": [
    {
     "data": {
      "text/plain": [
       "<matplotlib.axes._subplots.AxesSubplot at 0x1e61b0cf748>"
      ]
     },
     "execution_count": 73,
     "metadata": {},
     "output_type": "execute_result"
    },
    {
     "data": {
      "image/png": "[encoded data removed]",
      "text/plain": [
       "<Figure size 1440x360 with 1 Axes>"
      ]
     },
     "metadata": {
      "needs_background": "light"
     },
     "output_type": "display_data"
    }
   ],
   "source": [
    "Analysis[Analysis['Outcome Type'] == 'Adoption']['DateTime_out'].dt.month.value_counts().sort_index().plot(kind=\"bar\", figsize=(20,5), title = 'В какой месяц чаще усыновляют животных')"
   ]
  },
  {
   "cell_type": "markdown",
   "metadata": {},
   "source": [
    "Вывод: новых хозяев обретает 45,8% собак и 45,9% кошек, 17,5 % собак и 42,9 % кошек отправляют в другие приюты, 34,2% собак и 5,6% кошек вернули владельцам. 
    Чаще всего усыновляют собак женского пола (49,6 %), а собак мужского пола чаще возвращают хозяевам (37,9%). У кошек соотношение мужского и женского пола по усыновлению и возвращению хозяевам одинаково. 
    Стерилизованными приют покидают 81,3% собак и 61, 6% кошек. Чаще всего перед выбытием животного из приюта проходит от 0 до 7 дней. До усыновления собаки ожидают в приюте в среднем 19 дней, а кошки - 32 дня. 
    Чаще всего забирать животных в новый дом приходят в субботу и воскресенье, а также в июне, июле, августе. "
   ]
  },
  {
   "cell_type": "code",
   "execution_count": 74,
   "metadata": {},
   "outputs": [],
   "source": [
    "Analysis.to_csv('A_pred.csv')"
   ]
  }
 ],
 "metadata": {
  "kernelspec": {
   "display_name": "Python 3",
   "language": "python",
   "name": "python3"
  },
  "language_info": {
   "codemirror_mode": {
    "name": "ipython",
    "version": 3
   },
   "file_extension": ".py",
   "mimetype": "text/x-python",
   "name": "python",
   "nbconvert_exporter": "python",
   "pygments_lexer": "ipython3",
   "version": "3.7.4"
  }
 },
 "nbformat": 4,
 "nbformat_minor": 2
}
